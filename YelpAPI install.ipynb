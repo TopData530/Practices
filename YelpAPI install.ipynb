{
 "cells": [
  {
   "cell_type": "code",
   "execution_count": 1,
   "id": "ea1f8449",
   "metadata": {},
   "outputs": [
    {
     "name": "stdout",
     "output_type": "stream",
     "text": [
      "Requirement already satisfied: yelpapi in c:\\users\\erics\\anaconda3\\envs\\dojo-env\\lib\\site-packages (2.4.0)\n",
      "Requirement already satisfied: requests in c:\\users\\erics\\anaconda3\\envs\\dojo-env\\lib\\site-packages (from yelpapi) (2.28.1)\n",
      "Requirement already satisfied: certifi>=2017.4.17 in c:\\users\\erics\\anaconda3\\envs\\dojo-env\\lib\\site-packages (from requests->yelpapi) (2022.9.24)\n",
      "Requirement already satisfied: charset-normalizer<3,>=2 in c:\\users\\erics\\anaconda3\\envs\\dojo-env\\lib\\site-packages (from requests->yelpapi) (2.1.1)\n",
      "Requirement already satisfied: urllib3<1.27,>=1.21.1 in c:\\users\\erics\\anaconda3\\envs\\dojo-env\\lib\\site-packages (from requests->yelpapi) (1.26.8)\n",
      "Requirement already satisfied: idna<4,>=2.5 in c:\\users\\erics\\anaconda3\\envs\\dojo-env\\lib\\site-packages (from requests->yelpapi) (3.3)\n",
      "Note: you may need to restart the kernel to use updated packages.\n"
     ]
    }
   ],
   "source": [
    "pip install yelpapi"
   ]
  },
  {
   "cell_type": "code",
   "execution_count": 3,
   "id": "9a24c014",
   "metadata": {},
   "outputs": [
    {
     "ename": "SyntaxError",
     "evalue": "invalid syntax (59834221.py, line 1)",
     "output_type": "error",
     "traceback": [
      "\u001b[1;36m  Cell \u001b[1;32mIn [3], line 1\u001b[1;36m\u001b[0m\n\u001b[1;33m    setup.py install\u001b[0m\n\u001b[1;37m             ^\u001b[0m\n\u001b[1;31mSyntaxError\u001b[0m\u001b[1;31m:\u001b[0m invalid syntax\n"
     ]
    }
   ],
   "source": [
    "setup.py install"
   ]
  },
  {
   "cell_type": "code",
   "execution_count": 8,
   "id": "ec6aa037",
   "metadata": {},
   "outputs": [
    {
     "ename": "NameError",
     "evalue": "name 'u54wE' is not defined",
     "output_type": "error",
     "traceback": [
      "\u001b[1;31m---------------------------------------------------------------------------\u001b[0m",
      "\u001b[1;31mNameError\u001b[0m                                 Traceback (most recent call last)",
      "Cell \u001b[1;32mIn [8], line 2\u001b[0m\n\u001b[0;32m      1\u001b[0m \u001b[38;5;28;01mfrom\u001b[39;00m \u001b[38;5;21;01myelpapi\u001b[39;00m \u001b[38;5;28;01mimport\u001b[39;00m YelpAPI\n\u001b[1;32m----> 2\u001b[0m \u001b[38;5;28;01mwith\u001b[39;00m YelpAPI(\u001b[43mu54wE\u001b[49m\u001b[38;5;241m-\u001b[39mTjFAa9I\u001b[38;5;241m-\u001b[39mWpJ2HS1UKJfAjiS7scFJFsvv0oJUgiOOfKAaBCwj_jlJwsH8w8anbdwlv_rOb8PJZyKP09smDwv7clZblH030HEE33yBv_0QhX2Hlj4rjulTR1Y3Yx) \u001b[38;5;28;01mas\u001b[39;00m yelp_api:\n\u001b[0;32m      3\u001b[0m     search_results \u001b[38;5;241m=\u001b[39m yelp_api\u001b[38;5;241m.\u001b[39msearch_query(args)\n",
      "\u001b[1;31mNameError\u001b[0m: name 'u54wE' is not defined"
     ]
    }
   ],
   "source": [
    "from yelpapi import YelpAPI\n",
    "with YelpAPI(u54wE-TjFAa9I-WpJ2HS1UKJfAjiS7scFJFsvv0oJUgiOOfKAaBCwj_jlJwsH8w8anbdwlv_rOb8PJZyKP09smDwv7clZblH030HEE33yBv_0QhX2Hlj4rjulTR1Y3Yx) as yelp_api:\n",
    "    search_results = yelp_api.search_query(args)"
   ]
  },
  {
   "cell_type": "code",
   "execution_count": null,
   "id": "63514b77",
   "metadata": {},
   "outputs": [],
   "source": [
    "/d/Data Enrichment/Week 2/API Calls/API-Calls/.secret\n"
   ]
  },
  {
   "cell_type": "code",
   "execution_count": 22,
   "id": "920543e7",
   "metadata": {},
   "outputs": [
    {
     "data": {
      "text/plain": [
       "dict_keys(['client-id', 'api-key'])"
      ]
     },
     "execution_count": 22,
     "metadata": {},
     "output_type": "execute_result"
    }
   ],
   "source": [
    "import json\n",
    "with open('/Data Enrichment/Week 2/API Calls/API-Calls/.secret/yelp_api.json') as f:\n",
    "    login = json.load(f)\n",
    "login.keys()"
   ]
  },
  {
   "cell_type": "code",
   "execution_count": null,
   "id": "0544d94f",
   "metadata": {},
   "outputs": [],
   "source": []
  }
 ],
 "metadata": {
  "kernelspec": {
   "display_name": "Python (dojo-env)",
   "language": "python",
   "name": "dojo-env"
  },
  "language_info": {
   "codemirror_mode": {
    "name": "ipython",
    "version": 3
   },
   "file_extension": ".py",
   "mimetype": "text/x-python",
   "name": "python",
   "nbconvert_exporter": "python",
   "pygments_lexer": "ipython3",
   "version": "3.8.13"
  },
  "toc": {
   "base_numbering": 1,
   "nav_menu": {},
   "number_sections": false,
   "sideBar": true,
   "skip_h1_title": false,
   "title_cell": "Table of Contents",
   "title_sidebar": "Contents",
   "toc_cell": false,
   "toc_position": {
    "height": "calc(100% - 180px)",
    "left": "10px",
    "top": "150px",
    "width": "384px"
   },
   "toc_section_display": true,
   "toc_window_display": true
  }
 },
 "nbformat": 4,
 "nbformat_minor": 5
}
